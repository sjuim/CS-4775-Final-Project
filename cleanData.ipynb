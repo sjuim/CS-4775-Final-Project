{
 "cells": [
  {
   "cell_type": "markdown",
   "metadata": {},
   "source": [
    "Make all sequences the same length to prevent errors"
   ]
  },
  {
   "cell_type": "code",
   "execution_count": 1,
   "metadata": {},
   "outputs": [
    {
     "name": "stdout",
     "output_type": "stream",
     "text": [
      "Alignment with 2205 rows and 18996 columns\n",
      "GAGAACAACCTAGGTCTCCGGAGGGGGCAAGGGCATCAGTGTGC...... KU296724\n",
      "TGTGTGCGAATAACTATGAGGAAGATTAATAATTTTCCTCTCAT...... KU296382\n",
      "CGGACACACAAAAAGAAAGAAGAATTTTTAGGATCTTTTGTGTG...... KU143819\n",
      "TTTAAATTGAAATTGTTACTGTAATCACACCTGGTTTGTTTCAG...... MK163664\n",
      "CGGACACACAAAAAGAAAGAAGAATTTTTAGGATCTTTTGTGTG...... KR534546\n",
      "AACTATGAGGAAGATTAATAATTTTCCTCTCATTGAAATTTATA...... LT630569\n",
      "CAACATCTAGGCCTTATCACATCACAAGTTCCGCCTTAAACTCT...... KR006957\n",
      "AGAAAGAAGAATTTTTAGGATCTTTTGTGTGCGAATAACTATGA...... KM233106\n",
      "TGTGTGCGAATAACTATGAGGAAGATTAATAATTTTCCTCTCAT...... KU296617\n",
      "CGGACACACAAAAAGAATGAAGGATTTTGAATCTTTATTGTGTG...... MK028856\n",
      "CGGACACACAAAAAGAAAGAAGAATTTTTAGGATCTTTTGTGTG...... KR074999\n",
      "GGACACACAAAAAGAAAGAAGAATTTTTAGGATCTTTTGTGTGC...... MF599522\n",
      "AATTTTTAGGATCTTTTGTGTGCGAATAACTATGAGGAAGATTA...... MG572230\n",
      "CGGACACACAAAAAGAAAGAAGAATTTTTAGGATCTTTTGTGTG...... KR534545\n",
      "CANCATCTAGGCCTTATCACATCACAAGTTCCGCCTTAAACTCT...... KR534533\n",
      "GATCTTTTGTGTGCGAATAACTATGAGGAAGATTAATAATTTTC...... KY425636\n",
      "GATCTTTTGTGTGCGAATAACTATGAGGAAGATTAATAATTTTC...... KR653286\n",
      "CACAAAAAGAAAGAAGAATTTTTAGGATCTTTTGTGTGCGAATA...... KR653244\n",
      "...\n",
      "TTTTAGGATCTTTTGTGTGCGAATAACTATGAGGAAGATTAATA...... KR105343\n"
     ]
    }
   ],
   "source": [
    "from Bio import AlignIO\n",
    "from Bio import SeqIO\n",
    "from Bio import Seq\n",
    "import os\n",
    "\n",
    "input_file = 'data.fa'\n",
    "records = SeqIO.parse(input_file, 'fasta')\n",
    "records = list(records) # make a copy, otherwise our generator\n",
    "                        # is exhausted after calculating maxlen\n",
    "maxlen = max(len(record.seq) for record in records)\n",
    "\n",
    "# pad sequences so that they all have the same length\n",
    "for record in records:\n",
    "    if len(record.seq) != maxlen:\n",
    "        sequence = str(record.seq).ljust(maxlen, '.')\n",
    "        record.seq = Seq.Seq(sequence)\n",
    "assert all(len(record.seq) == maxlen for record in records)\n",
    "\n",
    "# write to temporary file and do alignment\n",
    "output_file = '{}_padded.fasta'.format(os.path.splitext(input_file)[0])\n",
    "with open(output_file, 'w') as f:\n",
    "    SeqIO.write(records, f, 'fasta')\n",
    "alignment = AlignIO.read(output_file, \"fasta\")\n",
    "print(alignment)"
   ]
  },
  {
   "cell_type": "code",
   "execution_count": null,
   "metadata": {},
   "outputs": [],
   "source": []
  }
 ],
 "metadata": {
  "kernelspec": {
   "display_name": "venv",
   "language": "python",
   "name": "python3"
  },
  "language_info": {
   "codemirror_mode": {
    "name": "ipython",
    "version": 3
   },
   "file_extension": ".py",
   "mimetype": "text/x-python",
   "name": "python",
   "nbconvert_exporter": "python",
   "pygments_lexer": "ipython3",
   "version": "3.9.6"
  }
 },
 "nbformat": 4,
 "nbformat_minor": 2
}
